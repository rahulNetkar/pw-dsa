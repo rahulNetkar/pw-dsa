{
 "cells": [
  {
   "cell_type": "code",
   "execution_count": 10,
   "metadata": {},
   "outputs": [
    {
     "name": "stdout",
     "output_type": "stream",
     "text": [
      "True\n"
     ]
    }
   ],
   "source": [
    "'''1. Given an array, check if it contains any duplicates or not.'''\n",
    "\n",
    "# Logic\n",
    "def duplictes(arr):\n",
    "    \n",
    "    if len(arr) <= 1:\n",
    "        return False\n",
    "    return len(set(arr)) < len(arr)             \n",
    "        \n",
    "        \n",
    "# Driver code\n",
    "arr = [1, 2, 4, 2, 5, 9]\n",
    "\n",
    "print(duplictes(arr))"
   ]
  },
  {
   "cell_type": "code",
   "execution_count": 19,
   "metadata": {},
   "outputs": [
    {
     "name": "stdout",
     "output_type": "stream",
     "text": [
      "[6, 7, 8, 1, 2, 3, 4, 5]\n"
     ]
    }
   ],
   "source": [
    "'''2. Given an array and an integer k, rotate the array to the right by k steps.'''\n",
    "\n",
    "def rotate(arr, k):\n",
    "    n = len(arr)\n",
    "    k %= n  # To handle cases where k is greater than or equal to n\n",
    "    for i in range(k):\n",
    "        arr.insert(0, arr[-1])\n",
    "        arr.pop()\n",
    "    \n",
    "    return arr\n",
    "\n",
    "arr = [1, 2, 3, 4, 5, 6, 7, 8]\n",
    "k = 3\n",
    "print(rotate(arr, k))\n",
    "\n"
   ]
  },
  {
   "cell_type": "code",
   "execution_count": 1,
   "metadata": {},
   "outputs": [
    {
     "name": "stdout",
     "output_type": "stream",
     "text": [
      "[9, 8, 7, 6, 5, 4, 3, 2, 1]\n"
     ]
    }
   ],
   "source": [
    "'''3. Reverse the given array in-place, means without using any extra data structure.'''\n",
    "\n",
    "def reversed(arr):\n",
    "    n = len(arr)\n",
    "    for i in range(n//2):\n",
    "        arr[i], arr[n-1-i] = arr[n-1-i], arr[i]\n",
    "\n",
    "    return arr\n",
    "\n",
    "arr = [1, 2, 3, 4, 5, 6, 7, 8, 9]\n",
    "\n",
    "print(reversed(arr))\n"
   ]
  },
  {
   "cell_type": "code",
   "execution_count": 5,
   "metadata": {},
   "outputs": [
    {
     "name": "stdout",
     "output_type": "stream",
     "text": [
      "20\n"
     ]
    }
   ],
   "source": [
    "'''4. Given an array of integers, find the maximum element in an array'''\n",
    "\n",
    "def maximum(arr):\n",
    "    max_element = arr[0]\n",
    "    for i in range(1, len(arr)):\n",
    "        if arr[i] > max_element:\n",
    "            max_element = arr[i]\n",
    "    \n",
    "    return max_element\n",
    "\n",
    "arr = [10, 5, 20, 8, 15]\n",
    "\n",
    "print(maximum(arr))"
   ]
  },
  {
   "cell_type": "code",
   "execution_count": 7,
   "metadata": {},
   "outputs": [
    {
     "name": "stdout",
     "output_type": "stream",
     "text": [
      "[1, 2, 3, 4, 5]\n"
     ]
    }
   ],
   "source": [
    "'''5. Given a sorted array, remove the duplicate element without using any extra data structure'''\n",
    "\n",
    "def remove(arr):\n",
    "    n = len(arr)\n",
    "    if n <= 1:\n",
    "        return arr\n",
    "    \n",
    "    i = 0\n",
    "    j = 1\n",
    "    \n",
    "    while j < len(arr):\n",
    "        if arr[i] == arr[j]:\n",
    "            del arr[j]\n",
    "        else:\n",
    "            i += 1\n",
    "            j += 1     \n",
    "        \n",
    "    return arr\n",
    "\n",
    "\n",
    "arr = [1, 2, 2, 2, 3, 3, 4, 4, 4, 5, 5]\n",
    "\n",
    "print(remove(arr))     \n",
    "        "
   ]
  },
  {
   "cell_type": "code",
   "execution_count": null,
   "metadata": {},
   "outputs": [],
   "source": []
  }
 ],
 "metadata": {
  "kernelspec": {
   "display_name": "Python 3",
   "language": "python",
   "name": "python3"
  },
  "language_info": {
   "codemirror_mode": {
    "name": "ipython",
    "version": 3
   },
   "file_extension": ".py",
   "mimetype": "text/x-python",
   "name": "python",
   "nbconvert_exporter": "python",
   "pygments_lexer": "ipython3",
   "version": "3.9.2"
  }
 },
 "nbformat": 4,
 "nbformat_minor": 2
}
